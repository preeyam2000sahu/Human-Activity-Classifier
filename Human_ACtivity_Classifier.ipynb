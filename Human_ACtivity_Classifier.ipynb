{
  "nbformat": 4,
  "nbformat_minor": 0,
  "metadata": {
    "kernelspec": {
      "name": "python3",
      "display_name": "Python 3",
      "language": "python"
    },
    "colab": {
      "name": "Human_ACtivity_Classifier.ipynb",
      "provenance": [],
      "include_colab_link": true
    }
  },
  "cells": [
    {
      "cell_type": "markdown",
      "metadata": {
        "id": "view-in-github",
        "colab_type": "text"
      },
      "source": [
        "<a href=\"https://colab.research.google.com/github/preeyam2000sahu/Human-Activity-Classifier/blob/main/Human_ACtivity_Classifier.ipynb\" target=\"_parent\"><img src=\"https://colab.research.google.com/assets/colab-badge.svg\" alt=\"Open In Colab\"/></a>"
      ]
    },
    {
      "cell_type": "code",
      "metadata": {
        "colab": {
          "base_uri": "https://localhost:8080/"
        },
        "id": "MpdidQOXclUD",
        "outputId": "bb002472-3f8a-4c2f-c1d5-d336ca350ead"
      },
      "source": [
        "from google.colab import drive\n",
        "drive.mount('/content/gdrive')"
      ],
      "execution_count": 1,
      "outputs": [
        {
          "output_type": "stream",
          "text": [
            "Mounted at /content/gdrive\n"
          ],
          "name": "stdout"
        }
      ]
    },
    {
      "cell_type": "code",
      "metadata": {
        "id": "kDTeJY8Mc-su"
      },
      "source": [
        "import os\n",
        "os.environ['KAGGLE_CONFIG_DIR'] = \"/content/gdrive/My Drive/Kaggle\"\n"
      ],
      "execution_count": 3,
      "outputs": []
    },
    {
      "cell_type": "code",
      "metadata": {
        "colab": {
          "base_uri": "https://localhost:8080/"
        },
        "id": "uOS7heXPdKyu",
        "outputId": "6bc09a10-752e-402e-83e6-8c6ccc6f4116"
      },
      "source": [
        "#changing the working directory\n",
        "%cd /content/gdrive/My Drive/Kaggle\n"
      ],
      "execution_count": 4,
      "outputs": [
        {
          "output_type": "stream",
          "text": [
            "/content/gdrive/My Drive/Kaggle\n"
          ],
          "name": "stdout"
        }
      ]
    },
    {
      "cell_type": "code",
      "metadata": {
        "colab": {
          "base_uri": "https://localhost:8080/"
        },
        "id": "h4Z5qORbd5Jw",
        "outputId": "fde66224-8f4f-4195-ac79-46044d6d921f"
      },
      "source": [
        "!kaggle competitions download -c human-activity-recognition-with-rnn"
      ],
      "execution_count": 11,
      "outputs": [
        {
          "output_type": "stream",
          "text": [
            "Warning: Looks like you're using an outdated API Version, please consider updating (server 1.5.12 / client 1.5.4)\n",
            "Downloading features.txt to /content/gdrive/My Drive/Kaggle\n",
            "  0% 0.00/15.4k [00:00<?, ?B/s]\n",
            "100% 15.4k/15.4k [00:00<00:00, 2.36MB/s]\n",
            "Downloading sampleSubmission.csv to /content/gdrive/My Drive/Kaggle\n",
            "  0% 0.00/67.0 [00:00<?, ?B/s]\n",
            "100% 67.0/67.0 [00:00<00:00, 9.04kB/s]\n",
            "Downloading activity_labels.txt to /content/gdrive/My Drive/Kaggle\n",
            "  0% 0.00/80.0 [00:00<?, ?B/s]\n",
            "100% 80.0/80.0 [00:00<00:00, 23.7kB/s]\n",
            "Downloading train.csv.zip to /content/gdrive/My Drive/Kaggle\n",
            " 52% 9.00M/17.5M [00:00<00:00, 26.1MB/s]\n",
            "100% 17.5M/17.5M [00:00<00:00, 39.4MB/s]\n",
            "Downloading test.csv.zip to /content/gdrive/My Drive/Kaggle\n",
            " 71% 5.00M/7.04M [00:00<00:00, 44.8MB/s]\n",
            "100% 7.04M/7.04M [00:00<00:00, 44.0MB/s]\n",
            "Downloading features_info.txt to /content/gdrive/My Drive/Kaggle\n",
            "  0% 0.00/2.74k [00:00<?, ?B/s]\n",
            "100% 2.74k/2.74k [00:00<00:00, 763kB/s]\n"
          ],
          "name": "stdout"
        }
      ]
    },
    {
      "cell_type": "code",
      "metadata": {
        "colab": {
          "base_uri": "https://localhost:8080/"
        },
        "id": "dOV2s2TGegx6",
        "outputId": "f45c86ae-b18c-4423-cc42-7dea318b8ae7"
      },
      "source": [
        "!unzip \\*.zip  && rm *.zip"
      ],
      "execution_count": 12,
      "outputs": [
        {
          "output_type": "stream",
          "text": [
            "Archive:  train.csv.zip\n",
            "  inflating: train.csv               \n",
            "\n",
            "Archive:  test.csv.zip\n",
            "  inflating: test.csv                \n",
            "\n",
            "2 archives were successfully processed.\n"
          ],
          "name": "stdout"
        }
      ]
    },
    {
      "cell_type": "code",
      "metadata": {
        "_uuid": "8f2839f25d086af736a60e9eeb907d3b93b6e0e5",
        "_cell_guid": "b1076dfc-b9ad-4769-8c92-a6c4dae69d19",
        "trusted": true,
        "id": "37CErKP_bcHq"
      },
      "source": [
        "# This Python 3 environment comes with many helpful analytics libraries installed\n",
        "# It is defined by the kaggle/python Docker image: https://github.com/kaggle/docker-python\n",
        "# For example, here's several helpful packages to load\n",
        "\n",
        "import numpy as np # linear algebra\n",
        "import pandas as pd # data processing, CSV file I/O (e.g. pd.read_csv)\n",
        "\n",
        "# Input data files are available in the read-only \"../input/\" directory\n",
        "# For example, running this (by clicking run or pressing Shift+Enter) will list all files under the input directory\n",
        "\n",
        "import os\n",
        "# for dirname, _, filenames in os.walk('/kaggle/input'):\n",
        "#     for filename in filenames:\n",
        "#         print(os.path.join(dirname, filename))\n",
        "\n",
        "# You can write up to 20GB to the current directory (/kaggle/working/) that gets preserved as output when you create a version using \"Save & Run All\" \n",
        "# You can also write temporary files to /kaggle/temp/, but they won't be saved outside of the current session"
      ],
      "execution_count": 13,
      "outputs": []
    },
    {
      "cell_type": "code",
      "metadata": {
        "trusted": true,
        "id": "7y9iIEwBbcH3"
      },
      "source": [
        "import numpy as np \n",
        "import tensorflow as tf\n",
        "import pandas as pd\n",
        "import matplotlib.pyplot as plt\n",
        "from sklearn.model_selection import train_test_split"
      ],
      "execution_count": 14,
      "outputs": []
    },
    {
      "cell_type": "code",
      "metadata": {
        "trusted": true,
        "id": "24SJ0XkVbcH4"
      },
      "source": [
        "df=pd.read_csv('./train.csv',header=0,index_col=False)"
      ],
      "execution_count": 15,
      "outputs": []
    },
    {
      "cell_type": "code",
      "metadata": {
        "trusted": true,
        "colab": {
          "base_uri": "https://localhost:8080/",
          "height": 287
        },
        "id": "ECvb0PuTbcH4",
        "outputId": "c4879b9f-1fe1-4d69-eb73-25e5b5f4d9f7"
      },
      "source": [
        "df.head()"
      ],
      "execution_count": 16,
      "outputs": [
        {
          "output_type": "execute_result",
          "data": {
            "text/html": [
              "<div>\n",
              "<style scoped>\n",
              "    .dataframe tbody tr th:only-of-type {\n",
              "        vertical-align: middle;\n",
              "    }\n",
              "\n",
              "    .dataframe tbody tr th {\n",
              "        vertical-align: top;\n",
              "    }\n",
              "\n",
              "    .dataframe thead th {\n",
              "        text-align: right;\n",
              "    }\n",
              "</style>\n",
              "<table border=\"1\" class=\"dataframe\">\n",
              "  <thead>\n",
              "    <tr style=\"text-align: right;\">\n",
              "      <th></th>\n",
              "      <th>id</th>\n",
              "      <th>tBodyAcc-mean()-X</th>\n",
              "      <th>tBodyAcc-mean()-Y</th>\n",
              "      <th>tBodyAcc-mean()-Z</th>\n",
              "      <th>tBodyAcc-std()-X</th>\n",
              "      <th>tBodyAcc-std()-Y</th>\n",
              "      <th>tBodyAcc-std()-Z</th>\n",
              "      <th>tBodyAcc-mad()-X</th>\n",
              "      <th>tBodyAcc-mad()-Y</th>\n",
              "      <th>tBodyAcc-mad()-Z</th>\n",
              "      <th>tBodyAcc-max()-X</th>\n",
              "      <th>tBodyAcc-max()-Y</th>\n",
              "      <th>tBodyAcc-max()-Z</th>\n",
              "      <th>tBodyAcc-min()-X</th>\n",
              "      <th>tBodyAcc-min()-Y</th>\n",
              "      <th>tBodyAcc-min()-Z</th>\n",
              "      <th>tBodyAcc-sma()</th>\n",
              "      <th>tBodyAcc-energy()-X</th>\n",
              "      <th>tBodyAcc-energy()-Y</th>\n",
              "      <th>tBodyAcc-energy()-Z</th>\n",
              "      <th>tBodyAcc-iqr()-X</th>\n",
              "      <th>tBodyAcc-iqr()-Y</th>\n",
              "      <th>tBodyAcc-iqr()-Z</th>\n",
              "      <th>tBodyAcc-entropy()-X</th>\n",
              "      <th>tBodyAcc-entropy()-Y</th>\n",
              "      <th>tBodyAcc-entropy()-Z</th>\n",
              "      <th>tBodyAcc-arCoeff()-X,1</th>\n",
              "      <th>tBodyAcc-arCoeff()-X,2</th>\n",
              "      <th>tBodyAcc-arCoeff()-X,3</th>\n",
              "      <th>tBodyAcc-arCoeff()-X,4</th>\n",
              "      <th>tBodyAcc-arCoeff()-Y,1</th>\n",
              "      <th>tBodyAcc-arCoeff()-Y,2</th>\n",
              "      <th>tBodyAcc-arCoeff()-Y,3</th>\n",
              "      <th>tBodyAcc-arCoeff()-Y,4</th>\n",
              "      <th>tBodyAcc-arCoeff()-Z,1</th>\n",
              "      <th>tBodyAcc-arCoeff()-Z,2</th>\n",
              "      <th>tBodyAcc-arCoeff()-Z,3</th>\n",
              "      <th>tBodyAcc-arCoeff()-Z,4</th>\n",
              "      <th>tBodyAcc-correlation()-X,Y</th>\n",
              "      <th>tBodyAcc-correlation()-X,Z</th>\n",
              "      <th>...</th>\n",
              "      <th>fBodyBodyAccJerkMag-entropy()</th>\n",
              "      <th>fBodyBodyAccJerkMag-maxInds</th>\n",
              "      <th>fBodyBodyAccJerkMag-meanFreq()</th>\n",
              "      <th>fBodyBodyAccJerkMag-skewness()</th>\n",
              "      <th>fBodyBodyAccJerkMag-kurtosis()</th>\n",
              "      <th>fBodyBodyGyroMag-mean()</th>\n",
              "      <th>fBodyBodyGyroMag-std()</th>\n",
              "      <th>fBodyBodyGyroMag-mad()</th>\n",
              "      <th>fBodyBodyGyroMag-max()</th>\n",
              "      <th>fBodyBodyGyroMag-min()</th>\n",
              "      <th>fBodyBodyGyroMag-sma()</th>\n",
              "      <th>fBodyBodyGyroMag-energy()</th>\n",
              "      <th>fBodyBodyGyroMag-iqr()</th>\n",
              "      <th>fBodyBodyGyroMag-entropy()</th>\n",
              "      <th>fBodyBodyGyroMag-maxInds</th>\n",
              "      <th>fBodyBodyGyroMag-meanFreq()</th>\n",
              "      <th>fBodyBodyGyroMag-skewness()</th>\n",
              "      <th>fBodyBodyGyroMag-kurtosis()</th>\n",
              "      <th>fBodyBodyGyroJerkMag-mean()</th>\n",
              "      <th>fBodyBodyGyroJerkMag-std()</th>\n",
              "      <th>fBodyBodyGyroJerkMag-mad()</th>\n",
              "      <th>fBodyBodyGyroJerkMag-max()</th>\n",
              "      <th>fBodyBodyGyroJerkMag-min()</th>\n",
              "      <th>fBodyBodyGyroJerkMag-sma()</th>\n",
              "      <th>fBodyBodyGyroJerkMag-energy()</th>\n",
              "      <th>fBodyBodyGyroJerkMag-iqr()</th>\n",
              "      <th>fBodyBodyGyroJerkMag-entropy()</th>\n",
              "      <th>fBodyBodyGyroJerkMag-maxInds</th>\n",
              "      <th>fBodyBodyGyroJerkMag-meanFreq()</th>\n",
              "      <th>fBodyBodyGyroJerkMag-skewness()</th>\n",
              "      <th>fBodyBodyGyroJerkMag-kurtosis()</th>\n",
              "      <th>angle(tBodyAccMean,gravity)</th>\n",
              "      <th>angle(tBodyAccJerkMean),gravityMean)</th>\n",
              "      <th>angle(tBodyGyroMean,gravityMean)</th>\n",
              "      <th>angle(tBodyGyroJerkMean,gravityMean)</th>\n",
              "      <th>angle(X,gravityMean)</th>\n",
              "      <th>angle(Y,gravityMean)</th>\n",
              "      <th>angle(Z,gravityMean)</th>\n",
              "      <th>subject</th>\n",
              "      <th>activity</th>\n",
              "    </tr>\n",
              "  </thead>\n",
              "  <tbody>\n",
              "    <tr>\n",
              "      <th>0</th>\n",
              "      <td>0</td>\n",
              "      <td>0.288585</td>\n",
              "      <td>-0.020294</td>\n",
              "      <td>-0.132905</td>\n",
              "      <td>-0.995279</td>\n",
              "      <td>-0.983111</td>\n",
              "      <td>-0.913526</td>\n",
              "      <td>-0.995112</td>\n",
              "      <td>-0.983185</td>\n",
              "      <td>-0.923527</td>\n",
              "      <td>-0.934724</td>\n",
              "      <td>-0.567378</td>\n",
              "      <td>-0.744413</td>\n",
              "      <td>0.852947</td>\n",
              "      <td>0.685845</td>\n",
              "      <td>0.814263</td>\n",
              "      <td>-0.965523</td>\n",
              "      <td>-0.999945</td>\n",
              "      <td>-0.999863</td>\n",
              "      <td>-0.994612</td>\n",
              "      <td>-0.994231</td>\n",
              "      <td>-0.987614</td>\n",
              "      <td>-0.943220</td>\n",
              "      <td>-0.407747</td>\n",
              "      <td>-0.679338</td>\n",
              "      <td>-0.602122</td>\n",
              "      <td>0.929294</td>\n",
              "      <td>-0.853011</td>\n",
              "      <td>0.359910</td>\n",
              "      <td>-0.058526</td>\n",
              "      <td>0.256892</td>\n",
              "      <td>-0.224848</td>\n",
              "      <td>0.264106</td>\n",
              "      <td>-0.095246</td>\n",
              "      <td>0.278851</td>\n",
              "      <td>-0.465085</td>\n",
              "      <td>0.491936</td>\n",
              "      <td>-0.190884</td>\n",
              "      <td>0.376314</td>\n",
              "      <td>0.435129</td>\n",
              "      <td>...</td>\n",
              "      <td>-1.0</td>\n",
              "      <td>-0.936508</td>\n",
              "      <td>0.346989</td>\n",
              "      <td>-0.516080</td>\n",
              "      <td>-0.802760</td>\n",
              "      <td>-0.980135</td>\n",
              "      <td>-0.961309</td>\n",
              "      <td>-0.973653</td>\n",
              "      <td>-0.952264</td>\n",
              "      <td>-0.989498</td>\n",
              "      <td>-0.980135</td>\n",
              "      <td>-0.999240</td>\n",
              "      <td>-0.992656</td>\n",
              "      <td>-0.701291</td>\n",
              "      <td>-1.000000</td>\n",
              "      <td>-0.128989</td>\n",
              "      <td>0.586156</td>\n",
              "      <td>0.374605</td>\n",
              "      <td>-0.991990</td>\n",
              "      <td>-0.990697</td>\n",
              "      <td>-0.989941</td>\n",
              "      <td>-0.992448</td>\n",
              "      <td>-0.991048</td>\n",
              "      <td>-0.991990</td>\n",
              "      <td>-0.999937</td>\n",
              "      <td>-0.990458</td>\n",
              "      <td>-0.871306</td>\n",
              "      <td>-1.000000</td>\n",
              "      <td>-0.074323</td>\n",
              "      <td>-0.298676</td>\n",
              "      <td>-0.710304</td>\n",
              "      <td>-0.112754</td>\n",
              "      <td>0.030400</td>\n",
              "      <td>-0.464761</td>\n",
              "      <td>-0.018446</td>\n",
              "      <td>-0.841247</td>\n",
              "      <td>0.179941</td>\n",
              "      <td>-0.058627</td>\n",
              "      <td>1</td>\n",
              "      <td>5</td>\n",
              "    </tr>\n",
              "    <tr>\n",
              "      <th>1</th>\n",
              "      <td>1</td>\n",
              "      <td>0.278419</td>\n",
              "      <td>-0.016411</td>\n",
              "      <td>-0.123520</td>\n",
              "      <td>-0.998245</td>\n",
              "      <td>-0.975300</td>\n",
              "      <td>-0.960322</td>\n",
              "      <td>-0.998807</td>\n",
              "      <td>-0.974914</td>\n",
              "      <td>-0.957686</td>\n",
              "      <td>-0.943068</td>\n",
              "      <td>-0.557851</td>\n",
              "      <td>-0.818409</td>\n",
              "      <td>0.849308</td>\n",
              "      <td>0.685845</td>\n",
              "      <td>0.822637</td>\n",
              "      <td>-0.981930</td>\n",
              "      <td>-0.999991</td>\n",
              "      <td>-0.999788</td>\n",
              "      <td>-0.998405</td>\n",
              "      <td>-0.999150</td>\n",
              "      <td>-0.977866</td>\n",
              "      <td>-0.948225</td>\n",
              "      <td>-0.714892</td>\n",
              "      <td>-0.500930</td>\n",
              "      <td>-0.570979</td>\n",
              "      <td>0.611627</td>\n",
              "      <td>-0.329549</td>\n",
              "      <td>0.284213</td>\n",
              "      <td>0.284595</td>\n",
              "      <td>0.115705</td>\n",
              "      <td>-0.090963</td>\n",
              "      <td>0.294310</td>\n",
              "      <td>-0.281211</td>\n",
              "      <td>0.085988</td>\n",
              "      <td>-0.022153</td>\n",
              "      <td>-0.016657</td>\n",
              "      <td>-0.220643</td>\n",
              "      <td>-0.013429</td>\n",
              "      <td>-0.072692</td>\n",
              "      <td>...</td>\n",
              "      <td>-1.0</td>\n",
              "      <td>-0.841270</td>\n",
              "      <td>0.532061</td>\n",
              "      <td>-0.624871</td>\n",
              "      <td>-0.900160</td>\n",
              "      <td>-0.988296</td>\n",
              "      <td>-0.983322</td>\n",
              "      <td>-0.982659</td>\n",
              "      <td>-0.986321</td>\n",
              "      <td>-0.991829</td>\n",
              "      <td>-0.988296</td>\n",
              "      <td>-0.999811</td>\n",
              "      <td>-0.993979</td>\n",
              "      <td>-0.720683</td>\n",
              "      <td>-0.948718</td>\n",
              "      <td>-0.271958</td>\n",
              "      <td>-0.336310</td>\n",
              "      <td>-0.720015</td>\n",
              "      <td>-0.995854</td>\n",
              "      <td>-0.996399</td>\n",
              "      <td>-0.995442</td>\n",
              "      <td>-0.996866</td>\n",
              "      <td>-0.994440</td>\n",
              "      <td>-0.995854</td>\n",
              "      <td>-0.999981</td>\n",
              "      <td>-0.994544</td>\n",
              "      <td>-1.000000</td>\n",
              "      <td>-1.000000</td>\n",
              "      <td>0.158075</td>\n",
              "      <td>-0.595051</td>\n",
              "      <td>-0.861499</td>\n",
              "      <td>0.053477</td>\n",
              "      <td>-0.007435</td>\n",
              "      <td>-0.732626</td>\n",
              "      <td>0.703511</td>\n",
              "      <td>-0.844788</td>\n",
              "      <td>0.180289</td>\n",
              "      <td>-0.054317</td>\n",
              "      <td>1</td>\n",
              "      <td>5</td>\n",
              "    </tr>\n",
              "    <tr>\n",
              "      <th>2</th>\n",
              "      <td>2</td>\n",
              "      <td>0.279653</td>\n",
              "      <td>-0.019467</td>\n",
              "      <td>-0.113462</td>\n",
              "      <td>-0.995380</td>\n",
              "      <td>-0.967187</td>\n",
              "      <td>-0.978944</td>\n",
              "      <td>-0.996520</td>\n",
              "      <td>-0.963668</td>\n",
              "      <td>-0.977469</td>\n",
              "      <td>-0.938692</td>\n",
              "      <td>-0.557851</td>\n",
              "      <td>-0.818409</td>\n",
              "      <td>0.843609</td>\n",
              "      <td>0.682401</td>\n",
              "      <td>0.839344</td>\n",
              "      <td>-0.983478</td>\n",
              "      <td>-0.999969</td>\n",
              "      <td>-0.999660</td>\n",
              "      <td>-0.999470</td>\n",
              "      <td>-0.997130</td>\n",
              "      <td>-0.964810</td>\n",
              "      <td>-0.974675</td>\n",
              "      <td>-0.592235</td>\n",
              "      <td>-0.485821</td>\n",
              "      <td>-0.570979</td>\n",
              "      <td>0.273025</td>\n",
              "      <td>-0.086309</td>\n",
              "      <td>0.337202</td>\n",
              "      <td>-0.164739</td>\n",
              "      <td>0.017150</td>\n",
              "      <td>-0.074507</td>\n",
              "      <td>0.342256</td>\n",
              "      <td>-0.332564</td>\n",
              "      <td>0.239281</td>\n",
              "      <td>-0.136204</td>\n",
              "      <td>0.173863</td>\n",
              "      <td>-0.299493</td>\n",
              "      <td>-0.124698</td>\n",
              "      <td>-0.181105</td>\n",
              "      <td>...</td>\n",
              "      <td>-1.0</td>\n",
              "      <td>-0.904762</td>\n",
              "      <td>0.660795</td>\n",
              "      <td>-0.724697</td>\n",
              "      <td>-0.928539</td>\n",
              "      <td>-0.989255</td>\n",
              "      <td>-0.986028</td>\n",
              "      <td>-0.984274</td>\n",
              "      <td>-0.990979</td>\n",
              "      <td>-0.995703</td>\n",
              "      <td>-0.989255</td>\n",
              "      <td>-0.999854</td>\n",
              "      <td>-0.993238</td>\n",
              "      <td>-0.736521</td>\n",
              "      <td>-0.794872</td>\n",
              "      <td>-0.212728</td>\n",
              "      <td>-0.535352</td>\n",
              "      <td>-0.871914</td>\n",
              "      <td>-0.995031</td>\n",
              "      <td>-0.995127</td>\n",
              "      <td>-0.994640</td>\n",
              "      <td>-0.996060</td>\n",
              "      <td>-0.995866</td>\n",
              "      <td>-0.995031</td>\n",
              "      <td>-0.999973</td>\n",
              "      <td>-0.993755</td>\n",
              "      <td>-1.000000</td>\n",
              "      <td>-0.555556</td>\n",
              "      <td>0.414503</td>\n",
              "      <td>-0.390748</td>\n",
              "      <td>-0.760104</td>\n",
              "      <td>-0.118559</td>\n",
              "      <td>0.177899</td>\n",
              "      <td>0.100699</td>\n",
              "      <td>0.808529</td>\n",
              "      <td>-0.848933</td>\n",
              "      <td>0.180637</td>\n",
              "      <td>-0.049118</td>\n",
              "      <td>1</td>\n",
              "      <td>5</td>\n",
              "    </tr>\n",
              "    <tr>\n",
              "      <th>3</th>\n",
              "      <td>3</td>\n",
              "      <td>0.279174</td>\n",
              "      <td>-0.026201</td>\n",
              "      <td>-0.123283</td>\n",
              "      <td>-0.996091</td>\n",
              "      <td>-0.983403</td>\n",
              "      <td>-0.990675</td>\n",
              "      <td>-0.997099</td>\n",
              "      <td>-0.982750</td>\n",
              "      <td>-0.989302</td>\n",
              "      <td>-0.938692</td>\n",
              "      <td>-0.576159</td>\n",
              "      <td>-0.829711</td>\n",
              "      <td>0.843609</td>\n",
              "      <td>0.682401</td>\n",
              "      <td>0.837869</td>\n",
              "      <td>-0.986093</td>\n",
              "      <td>-0.999976</td>\n",
              "      <td>-0.999736</td>\n",
              "      <td>-0.999504</td>\n",
              "      <td>-0.997180</td>\n",
              "      <td>-0.983799</td>\n",
              "      <td>-0.986007</td>\n",
              "      <td>-0.627446</td>\n",
              "      <td>-0.850930</td>\n",
              "      <td>-0.911872</td>\n",
              "      <td>0.061436</td>\n",
              "      <td>0.074840</td>\n",
              "      <td>0.198204</td>\n",
              "      <td>-0.264307</td>\n",
              "      <td>0.072545</td>\n",
              "      <td>-0.155320</td>\n",
              "      <td>0.323154</td>\n",
              "      <td>-0.170813</td>\n",
              "      <td>0.294938</td>\n",
              "      <td>-0.306081</td>\n",
              "      <td>0.482148</td>\n",
              "      <td>-0.470129</td>\n",
              "      <td>-0.305693</td>\n",
              "      <td>-0.362654</td>\n",
              "      <td>...</td>\n",
              "      <td>-1.0</td>\n",
              "      <td>1.000000</td>\n",
              "      <td>0.678921</td>\n",
              "      <td>-0.701131</td>\n",
              "      <td>-0.909639</td>\n",
              "      <td>-0.989413</td>\n",
              "      <td>-0.987836</td>\n",
              "      <td>-0.986850</td>\n",
              "      <td>-0.986749</td>\n",
              "      <td>-0.996199</td>\n",
              "      <td>-0.989413</td>\n",
              "      <td>-0.999876</td>\n",
              "      <td>-0.989136</td>\n",
              "      <td>-0.720891</td>\n",
              "      <td>-1.000000</td>\n",
              "      <td>-0.035684</td>\n",
              "      <td>-0.230091</td>\n",
              "      <td>-0.511217</td>\n",
              "      <td>-0.995221</td>\n",
              "      <td>-0.995237</td>\n",
              "      <td>-0.995722</td>\n",
              "      <td>-0.995273</td>\n",
              "      <td>-0.995732</td>\n",
              "      <td>-0.995221</td>\n",
              "      <td>-0.999974</td>\n",
              "      <td>-0.995226</td>\n",
              "      <td>-0.955696</td>\n",
              "      <td>-0.936508</td>\n",
              "      <td>0.404573</td>\n",
              "      <td>-0.117290</td>\n",
              "      <td>-0.482845</td>\n",
              "      <td>-0.036788</td>\n",
              "      <td>-0.012892</td>\n",
              "      <td>0.640011</td>\n",
              "      <td>-0.485366</td>\n",
              "      <td>-0.848649</td>\n",
              "      <td>0.181935</td>\n",
              "      <td>-0.047663</td>\n",
              "      <td>1</td>\n",
              "      <td>5</td>\n",
              "    </tr>\n",
              "    <tr>\n",
              "      <th>4</th>\n",
              "      <td>4</td>\n",
              "      <td>0.276629</td>\n",
              "      <td>-0.016570</td>\n",
              "      <td>-0.115362</td>\n",
              "      <td>-0.998139</td>\n",
              "      <td>-0.980817</td>\n",
              "      <td>-0.990482</td>\n",
              "      <td>-0.998321</td>\n",
              "      <td>-0.979672</td>\n",
              "      <td>-0.990441</td>\n",
              "      <td>-0.942469</td>\n",
              "      <td>-0.569174</td>\n",
              "      <td>-0.824705</td>\n",
              "      <td>0.849095</td>\n",
              "      <td>0.683250</td>\n",
              "      <td>0.837869</td>\n",
              "      <td>-0.992653</td>\n",
              "      <td>-0.999991</td>\n",
              "      <td>-0.999856</td>\n",
              "      <td>-0.999757</td>\n",
              "      <td>-0.998004</td>\n",
              "      <td>-0.981232</td>\n",
              "      <td>-0.991325</td>\n",
              "      <td>-0.786553</td>\n",
              "      <td>-0.559477</td>\n",
              "      <td>-0.761434</td>\n",
              "      <td>0.313276</td>\n",
              "      <td>-0.131208</td>\n",
              "      <td>0.191161</td>\n",
              "      <td>0.086904</td>\n",
              "      <td>0.257615</td>\n",
              "      <td>-0.272505</td>\n",
              "      <td>0.434728</td>\n",
              "      <td>-0.315375</td>\n",
              "      <td>0.439744</td>\n",
              "      <td>-0.269069</td>\n",
              "      <td>0.179414</td>\n",
              "      <td>-0.088952</td>\n",
              "      <td>-0.155804</td>\n",
              "      <td>-0.189763</td>\n",
              "      <td>...</td>\n",
              "      <td>-1.0</td>\n",
              "      <td>-1.000000</td>\n",
              "      <td>0.559058</td>\n",
              "      <td>-0.528901</td>\n",
              "      <td>-0.858933</td>\n",
              "      <td>-0.991433</td>\n",
              "      <td>-0.989059</td>\n",
              "      <td>-0.987744</td>\n",
              "      <td>-0.991462</td>\n",
              "      <td>-0.998353</td>\n",
              "      <td>-0.991433</td>\n",
              "      <td>-0.999902</td>\n",
              "      <td>-0.989321</td>\n",
              "      <td>-0.763372</td>\n",
              "      <td>-0.897436</td>\n",
              "      <td>-0.273582</td>\n",
              "      <td>-0.510282</td>\n",
              "      <td>-0.830702</td>\n",
              "      <td>-0.995093</td>\n",
              "      <td>-0.995465</td>\n",
              "      <td>-0.995279</td>\n",
              "      <td>-0.995609</td>\n",
              "      <td>-0.997418</td>\n",
              "      <td>-0.995093</td>\n",
              "      <td>-0.999974</td>\n",
              "      <td>-0.995487</td>\n",
              "      <td>-1.000000</td>\n",
              "      <td>-0.936508</td>\n",
              "      <td>0.087753</td>\n",
              "      <td>-0.351471</td>\n",
              "      <td>-0.699205</td>\n",
              "      <td>0.123320</td>\n",
              "      <td>0.122542</td>\n",
              "      <td>0.693578</td>\n",
              "      <td>-0.615971</td>\n",
              "      <td>-0.847865</td>\n",
              "      <td>0.185151</td>\n",
              "      <td>-0.043892</td>\n",
              "      <td>1</td>\n",
              "      <td>5</td>\n",
              "    </tr>\n",
              "  </tbody>\n",
              "</table>\n",
              "<p>5 rows × 564 columns</p>\n",
              "</div>"
            ],
            "text/plain": [
              "   id  tBodyAcc-mean()-X  ...  subject  activity\n",
              "0   0           0.288585  ...        1         5\n",
              "1   1           0.278419  ...        1         5\n",
              "2   2           0.279653  ...        1         5\n",
              "3   3           0.279174  ...        1         5\n",
              "4   4           0.276629  ...        1         5\n",
              "\n",
              "[5 rows x 564 columns]"
            ]
          },
          "metadata": {
            "tags": []
          },
          "execution_count": 16
        }
      ]
    },
    {
      "cell_type": "code",
      "metadata": {
        "trusted": true,
        "id": "jKrkvokmbcH5"
      },
      "source": [
        "df=df.drop(['id','subject'],axis=1)"
      ],
      "execution_count": 17,
      "outputs": []
    },
    {
      "cell_type": "code",
      "metadata": {
        "trusted": true,
        "colab": {
          "base_uri": "https://localhost:8080/"
        },
        "id": "RpSbzEQNbcH6",
        "outputId": "a9a44321-541e-48f5-9b8d-917ad2d654ad"
      },
      "source": [
        "X=df.drop(['activity'],axis=1)\n",
        "Y=df['activity']\n",
        "Y_train=Y.to_numpy()\n",
        "Y_train=Y_train-1\n",
        "X_train=X.to_numpy()\n",
        "print (X_train.shape)\n",
        "print (Y_train.shape)"
      ],
      "execution_count": 18,
      "outputs": [
        {
          "output_type": "stream",
          "text": [
            "(7352, 561)\n",
            "(7352,)\n"
          ],
          "name": "stdout"
        }
      ]
    },
    {
      "cell_type": "code",
      "metadata": {
        "trusted": true,
        "id": "50e9SNahbcH6"
      },
      "source": [
        "X_train=X_train.reshape(1,7352,561)\n",
        "Y_train=Y_train.reshape(1,7352,1)"
      ],
      "execution_count": 19,
      "outputs": []
    },
    {
      "cell_type": "markdown",
      "metadata": {
        "id": "z3N9TS6Lbr38"
      },
      "source": [
        "The cell below is not part of the designed LSTM."
      ]
    },
    {
      "cell_type": "code",
      "metadata": {
        "trusted": true,
        "id": "n0BGRRhobcH7"
      },
      "source": [
        "#  model=tf.keras.models.Sequential([\n",
        "#                                   tf.keras.layers.Dense(4096,activation='relu'),\n",
        "#                                    tf.keras.layers.Dropout(0.5),\n",
        "#                                   tf.keras.layers.Dense(2048,activation='relu'),\n",
        "#                                    tf.keras.layers.Dropout(0.4),\n",
        "#                                   tf.keras.layers.Dense(1024,activation='relu'),\n",
        "#                                    tf.keras.layers.Dropout(0.3),\n",
        "#                                   tf.keras.layers.Dense(512,activation='relu'),\n",
        "#                                    tf.keras.layers.Dense(256,activation='relu'),\n",
        "#                                    tf.keras.layers.Dropout(0.2),\n",
        "#                                    tf.keras.layers.Dense(128,activation='relu'),\n",
        "#                                    tf.keras.layers.Dense(64,activation='relu'),\n",
        "#                                    tf.keras.layers.Dense(32,activation='relu'),\n",
        "#                                    tf.keras.layers.Dense(16,activation='relu'),\n",
        "#                                    tf.keras.layers.Dense(8,activation='relu'),\n",
        "#                                   tf.keras.layers.Dense(6,activation='softmax')\n",
        "# ])"
      ],
      "execution_count": null,
      "outputs": []
    },
    {
      "cell_type": "code",
      "metadata": {
        "trusted": true,
        "id": "ETlw9I2bbcH8"
      },
      "source": [
        " model=tf.keras.models.Sequential([\n",
        "                                  \n",
        "                                   tf.keras.layers.LSTM(units=1024,dropout=0.3,recurrent_dropout=0.3,return_sequences=True,time_major=True),\n",
        "                                   tf.keras.layers.LSTM(units=256,dropout=0.1,recurrent_dropout=0.1,return_sequences=True,time_major=True),\n",
        "                                  tf.keras.layers.LSTM(units=6,return_sequences=True,activation='softmax',time_major=True)\n",
        "])"
      ],
      "execution_count": 20,
      "outputs": []
    },
    {
      "cell_type": "code",
      "metadata": {
        "trusted": true,
        "id": "sr7CS1XkbcH9"
      },
      "source": [
        "model.compile(optimizer=tf.keras.optimizers.Adam(learning_rate=0.001),loss='sparse_categorical_crossentropy',metrics=['accuracy'])"
      ],
      "execution_count": 21,
      "outputs": []
    },
    {
      "cell_type": "code",
      "metadata": {
        "trusted": true,
        "colab": {
          "base_uri": "https://localhost:8080/"
        },
        "id": "bTs-fp6FbcH-",
        "outputId": "3bb07fa5-973c-4dba-8908-e40a09dddae4"
      },
      "source": [
        "x=model.fit(X_train,Y_train,epochs=100,batch_size=512,verbose=1)"
      ],
      "execution_count": 33,
      "outputs": [
        {
          "output_type": "stream",
          "text": [
            "Epoch 1/100\n",
            "1/1 [==============================] - 8s 8s/step - loss: 0.1132 - accuracy: 0.9554\n",
            "Epoch 2/100\n",
            "1/1 [==============================] - 7s 7s/step - loss: 0.1187 - accuracy: 0.9536\n",
            "Epoch 3/100\n",
            "1/1 [==============================] - 7s 7s/step - loss: 0.1061 - accuracy: 0.9592\n",
            "Epoch 4/100\n",
            "1/1 [==============================] - 7s 7s/step - loss: 0.1033 - accuracy: 0.9587\n",
            "Epoch 5/100\n",
            "1/1 [==============================] - 7s 7s/step - loss: 0.0921 - accuracy: 0.9655\n",
            "Epoch 6/100\n",
            "1/1 [==============================] - 7s 7s/step - loss: 0.0985 - accuracy: 0.9630\n",
            "Epoch 7/100\n",
            "1/1 [==============================] - 7s 7s/step - loss: 0.0982 - accuracy: 0.9614\n",
            "Epoch 8/100\n",
            "1/1 [==============================] - 7s 7s/step - loss: 0.0964 - accuracy: 0.9645\n",
            "Epoch 9/100\n",
            "1/1 [==============================] - 7s 7s/step - loss: 0.0951 - accuracy: 0.9650\n",
            "Epoch 10/100\n",
            "1/1 [==============================] - 7s 7s/step - loss: 0.0927 - accuracy: 0.9648\n",
            "Epoch 11/100\n",
            "1/1 [==============================] - 7s 7s/step - loss: 0.0892 - accuracy: 0.9676\n",
            "Epoch 12/100\n",
            "1/1 [==============================] - 7s 7s/step - loss: 0.0933 - accuracy: 0.9634\n",
            "Epoch 13/100\n",
            "1/1 [==============================] - 7s 7s/step - loss: 0.0956 - accuracy: 0.9659\n",
            "Epoch 14/100\n",
            "1/1 [==============================] - 7s 7s/step - loss: 0.0980 - accuracy: 0.9615\n",
            "Epoch 15/100\n",
            "1/1 [==============================] - 7s 7s/step - loss: 0.0917 - accuracy: 0.9630\n",
            "Epoch 16/100\n",
            "1/1 [==============================] - 7s 7s/step - loss: 0.0975 - accuracy: 0.9630\n",
            "Epoch 17/100\n",
            "1/1 [==============================] - 7s 7s/step - loss: 0.0873 - accuracy: 0.9690\n",
            "Epoch 18/100\n",
            "1/1 [==============================] - 7s 7s/step - loss: 0.0906 - accuracy: 0.9656\n",
            "Epoch 19/100\n",
            "1/1 [==============================] - 7s 7s/step - loss: 0.0962 - accuracy: 0.9623\n",
            "Epoch 20/100\n",
            "1/1 [==============================] - 7s 7s/step - loss: 0.1057 - accuracy: 0.9600\n",
            "Epoch 21/100\n",
            "1/1 [==============================] - 7s 7s/step - loss: 0.0953 - accuracy: 0.9635\n",
            "Epoch 22/100\n",
            "1/1 [==============================] - 7s 7s/step - loss: 0.0833 - accuracy: 0.9693\n",
            "Epoch 23/100\n",
            "1/1 [==============================] - 7s 7s/step - loss: 0.0935 - accuracy: 0.9629\n",
            "Epoch 24/100\n",
            "1/1 [==============================] - 7s 7s/step - loss: 0.0931 - accuracy: 0.9638\n",
            "Epoch 25/100\n",
            "1/1 [==============================] - 7s 7s/step - loss: 0.0891 - accuracy: 0.9656\n",
            "Epoch 26/100\n",
            "1/1 [==============================] - 7s 7s/step - loss: 0.0849 - accuracy: 0.9698\n",
            "Epoch 27/100\n",
            "1/1 [==============================] - 7s 7s/step - loss: 0.0908 - accuracy: 0.9655\n",
            "Epoch 28/100\n",
            "1/1 [==============================] - 7s 7s/step - loss: 0.0934 - accuracy: 0.9648\n",
            "Epoch 29/100\n",
            "1/1 [==============================] - 7s 7s/step - loss: 0.0905 - accuracy: 0.9649\n",
            "Epoch 30/100\n",
            "1/1 [==============================] - 7s 7s/step - loss: 0.0828 - accuracy: 0.9701\n",
            "Epoch 31/100\n",
            "1/1 [==============================] - 7s 7s/step - loss: 0.0883 - accuracy: 0.9656\n",
            "Epoch 32/100\n",
            "1/1 [==============================] - 7s 7s/step - loss: 0.0912 - accuracy: 0.9649\n",
            "Epoch 33/100\n",
            "1/1 [==============================] - 7s 7s/step - loss: 0.0877 - accuracy: 0.9672\n",
            "Epoch 34/100\n",
            "1/1 [==============================] - 7s 7s/step - loss: 0.0845 - accuracy: 0.9690\n",
            "Epoch 35/100\n",
            "1/1 [==============================] - 7s 7s/step - loss: 0.0830 - accuracy: 0.9701\n",
            "Epoch 36/100\n",
            "1/1 [==============================] - 7s 7s/step - loss: 0.0830 - accuracy: 0.9684\n",
            "Epoch 37/100\n",
            "1/1 [==============================] - 7s 7s/step - loss: 0.0807 - accuracy: 0.9702\n",
            "Epoch 38/100\n",
            "1/1 [==============================] - 7s 7s/step - loss: 0.0809 - accuracy: 0.9702\n",
            "Epoch 39/100\n",
            "1/1 [==============================] - 7s 7s/step - loss: 0.0826 - accuracy: 0.9699\n",
            "Epoch 40/100\n",
            "1/1 [==============================] - 7s 7s/step - loss: 0.0785 - accuracy: 0.9720\n",
            "Epoch 41/100\n",
            "1/1 [==============================] - 7s 7s/step - loss: 0.0820 - accuracy: 0.9693\n",
            "Epoch 42/100\n",
            "1/1 [==============================] - 7s 7s/step - loss: 0.0842 - accuracy: 0.9676\n",
            "Epoch 43/100\n",
            "1/1 [==============================] - 7s 7s/step - loss: 0.0834 - accuracy: 0.9682\n",
            "Epoch 44/100\n",
            "1/1 [==============================] - 7s 7s/step - loss: 0.0769 - accuracy: 0.9720\n",
            "Epoch 45/100\n",
            "1/1 [==============================] - 7s 7s/step - loss: 0.0800 - accuracy: 0.9689\n",
            "Epoch 46/100\n",
            "1/1 [==============================] - 7s 7s/step - loss: 0.0790 - accuracy: 0.9706\n",
            "Epoch 47/100\n",
            "1/1 [==============================] - 7s 7s/step - loss: 0.0750 - accuracy: 0.9736\n",
            "Epoch 48/100\n",
            "1/1 [==============================] - 7s 7s/step - loss: 0.0854 - accuracy: 0.9669\n",
            "Epoch 49/100\n",
            "1/1 [==============================] - 7s 7s/step - loss: 0.0845 - accuracy: 0.9668\n",
            "Epoch 50/100\n",
            "1/1 [==============================] - 7s 7s/step - loss: 0.0812 - accuracy: 0.9682\n",
            "Epoch 51/100\n",
            "1/1 [==============================] - 7s 7s/step - loss: 0.0827 - accuracy: 0.9702\n",
            "Epoch 52/100\n",
            "1/1 [==============================] - 7s 7s/step - loss: 0.0839 - accuracy: 0.9678\n",
            "Epoch 53/100\n",
            "1/1 [==============================] - 7s 7s/step - loss: 0.0852 - accuracy: 0.9671\n",
            "Epoch 54/100\n",
            "1/1 [==============================] - 7s 7s/step - loss: 0.0872 - accuracy: 0.9660\n",
            "Epoch 55/100\n",
            "1/1 [==============================] - 7s 7s/step - loss: 0.0852 - accuracy: 0.9667\n",
            "Epoch 56/100\n",
            "1/1 [==============================] - 7s 7s/step - loss: 0.0762 - accuracy: 0.9721\n",
            "Epoch 57/100\n",
            "1/1 [==============================] - 7s 7s/step - loss: 0.0818 - accuracy: 0.9684\n",
            "Epoch 58/100\n",
            "1/1 [==============================] - 7s 7s/step - loss: 0.0861 - accuracy: 0.9676\n",
            "Epoch 59/100\n",
            "1/1 [==============================] - 7s 7s/step - loss: 0.0830 - accuracy: 0.9669\n",
            "Epoch 60/100\n",
            "1/1 [==============================] - 7s 7s/step - loss: 0.0769 - accuracy: 0.9703\n",
            "Epoch 61/100\n",
            "1/1 [==============================] - 7s 7s/step - loss: 0.0705 - accuracy: 0.9727\n",
            "Epoch 62/100\n",
            "1/1 [==============================] - 7s 7s/step - loss: 0.0785 - accuracy: 0.9690\n",
            "Epoch 63/100\n",
            "1/1 [==============================] - 7s 7s/step - loss: 0.0780 - accuracy: 0.9710\n",
            "Epoch 64/100\n",
            "1/1 [==============================] - 7s 7s/step - loss: 0.0740 - accuracy: 0.9736\n",
            "Epoch 65/100\n",
            "1/1 [==============================] - 7s 7s/step - loss: 0.0732 - accuracy: 0.9739\n",
            "Epoch 66/100\n",
            "1/1 [==============================] - 7s 7s/step - loss: 0.0752 - accuracy: 0.9697\n",
            "Epoch 67/100\n",
            "1/1 [==============================] - 7s 7s/step - loss: 0.0771 - accuracy: 0.9712\n",
            "Epoch 68/100\n",
            "1/1 [==============================] - 7s 7s/step - loss: 0.0797 - accuracy: 0.9699\n",
            "Epoch 69/100\n",
            "1/1 [==============================] - 7s 7s/step - loss: 0.0764 - accuracy: 0.9733\n",
            "Epoch 70/100\n",
            "1/1 [==============================] - 7s 7s/step - loss: 0.0731 - accuracy: 0.9731\n",
            "Epoch 71/100\n",
            "1/1 [==============================] - 7s 7s/step - loss: 0.0700 - accuracy: 0.9732\n",
            "Epoch 72/100\n",
            "1/1 [==============================] - 7s 7s/step - loss: 0.0764 - accuracy: 0.9710\n",
            "Epoch 73/100\n",
            "1/1 [==============================] - 6s 6s/step - loss: 0.0735 - accuracy: 0.9716\n",
            "Epoch 74/100\n",
            "1/1 [==============================] - 7s 7s/step - loss: 0.0729 - accuracy: 0.9728\n",
            "Epoch 75/100\n",
            "1/1 [==============================] - 7s 7s/step - loss: 0.0755 - accuracy: 0.9724\n",
            "Epoch 76/100\n",
            "1/1 [==============================] - 7s 7s/step - loss: 0.0771 - accuracy: 0.9724\n",
            "Epoch 77/100\n",
            "1/1 [==============================] - 7s 7s/step - loss: 0.0798 - accuracy: 0.9686\n",
            "Epoch 78/100\n",
            "1/1 [==============================] - 7s 7s/step - loss: 0.0747 - accuracy: 0.9724\n",
            "Epoch 79/100\n",
            "1/1 [==============================] - 7s 7s/step - loss: 0.0680 - accuracy: 0.9771\n",
            "Epoch 80/100\n",
            "1/1 [==============================] - 7s 7s/step - loss: 0.0746 - accuracy: 0.9721\n",
            "Epoch 81/100\n",
            "1/1 [==============================] - 7s 7s/step - loss: 0.0720 - accuracy: 0.9718\n",
            "Epoch 82/100\n",
            "1/1 [==============================] - 7s 7s/step - loss: 0.0726 - accuracy: 0.9718\n",
            "Epoch 83/100\n",
            "1/1 [==============================] - 7s 7s/step - loss: 0.0731 - accuracy: 0.9733\n",
            "Epoch 84/100\n",
            "1/1 [==============================] - 7s 7s/step - loss: 0.0685 - accuracy: 0.9755\n",
            "Epoch 85/100\n",
            "1/1 [==============================] - 7s 7s/step - loss: 0.0768 - accuracy: 0.9721\n",
            "Epoch 86/100\n",
            "1/1 [==============================] - 7s 7s/step - loss: 0.0722 - accuracy: 0.9728\n",
            "Epoch 87/100\n",
            "1/1 [==============================] - 7s 7s/step - loss: 0.0683 - accuracy: 0.9740\n",
            "Epoch 88/100\n",
            "1/1 [==============================] - 7s 7s/step - loss: 0.0659 - accuracy: 0.9754\n",
            "Epoch 89/100\n",
            "1/1 [==============================] - 7s 7s/step - loss: 0.0711 - accuracy: 0.9732\n",
            "Epoch 90/100\n",
            "1/1 [==============================] - 7s 7s/step - loss: 0.0718 - accuracy: 0.9748\n",
            "Epoch 91/100\n",
            "1/1 [==============================] - 7s 7s/step - loss: 0.0674 - accuracy: 0.9765\n",
            "Epoch 92/100\n",
            "1/1 [==============================] - 7s 7s/step - loss: 0.0679 - accuracy: 0.9752\n",
            "Epoch 93/100\n",
            "1/1 [==============================] - 7s 7s/step - loss: 0.0671 - accuracy: 0.9759\n",
            "Epoch 94/100\n",
            "1/1 [==============================] - 7s 7s/step - loss: 0.0675 - accuracy: 0.9727\n",
            "Epoch 95/100\n",
            "1/1 [==============================] - 7s 7s/step - loss: 0.0686 - accuracy: 0.9751\n",
            "Epoch 96/100\n",
            "1/1 [==============================] - 7s 7s/step - loss: 0.0681 - accuracy: 0.9732\n",
            "Epoch 97/100\n",
            "1/1 [==============================] - 7s 7s/step - loss: 0.0644 - accuracy: 0.9767\n",
            "Epoch 98/100\n",
            "1/1 [==============================] - 7s 7s/step - loss: 0.0648 - accuracy: 0.9773\n",
            "Epoch 99/100\n",
            "1/1 [==============================] - 7s 7s/step - loss: 0.0659 - accuracy: 0.9737\n",
            "Epoch 100/100\n",
            "1/1 [==============================] - 7s 7s/step - loss: 0.0678 - accuracy: 0.9737\n"
          ],
          "name": "stdout"
        }
      ]
    },
    {
      "cell_type": "code",
      "metadata": {
        "id": "KGWxebFv4gJq"
      },
      "source": [
        ""
      ],
      "execution_count": null,
      "outputs": []
    },
    {
      "cell_type": "code",
      "metadata": {
        "colab": {
          "base_uri": "https://localhost:8080/",
          "height": 295
        },
        "id": "LtjUQQxw54at",
        "outputId": "87a2f5b5-d8ef-4068-aeca-e7ba49651f50"
      },
      "source": [
        "plt.plot(x.history['accuracy'])\n",
        "plt.title('model accuracy')\n",
        "plt.ylabel('accuracy')\n",
        "plt.xlabel('epoch')\n",
        "plt.legend(['train'],loc='upper left')\n",
        "plt.show()"
      ],
      "execution_count": 35,
      "outputs": [
        {
          "output_type": "display_data",
          "data": {
            "image/png": "[encoded data removed]",
            "text/plain": [
              "<Figure size 432x288 with 1 Axes>"
            ]
          },
          "metadata": {
            "tags": [],
            "needs_background": "light"
          }
        }
      ]
    },
    {
      "cell_type": "code",
      "metadata": {
        "colab": {
          "base_uri": "https://localhost:8080/",
          "height": 295
        },
        "id": "F_tneHUq885e",
        "outputId": "902b8aa4-6664-40a8-900a-69b150582105"
      },
      "source": [
        "plt.plot(x.history['loss'])\n",
        "plt.title('model loss')\n",
        "plt.ylabel('loss')\n",
        "plt.xlabel('epoch')\n",
        "plt.legend(['train'],loc='upper left')\n",
        "plt.show()"
      ],
      "execution_count": 36,
      "outputs": [
        {
          "output_type": "display_data",
          "data": {
            "image/png": "[encoded data removed]",
            "text/plain": [
              "<Figure size 432x288 with 1 Axes>"
            ]
          },
          "metadata": {
            "tags": [],
            "needs_background": "light"
          }
        }
      ]
    },
    {
      "cell_type": "code",
      "metadata": {
        "trusted": true,
        "id": "itk3FjqPbcH-"
      },
      "source": [
        "df_test=pd.read_csv('./test.csv',header=0,index_col=False)"
      ],
      "execution_count": 23,
      "outputs": []
    },
    {
      "cell_type": "code",
      "metadata": {
        "trusted": true,
        "id": "JNm_FXpvbcH_"
      },
      "source": [
        "df_test=df_test.drop(['id','subject'],axis=1)\n",
        "X_test=df_test.to_numpy()"
      ],
      "execution_count": 24,
      "outputs": []
    },
    {
      "cell_type": "code",
      "metadata": {
        "trusted": true,
        "id": "-jUK8gsnbcH_"
      },
      "source": [
        "X_test=X_test.reshape(1,2947,561)"
      ],
      "execution_count": 25,
      "outputs": []
    },
    {
      "cell_type": "code",
      "metadata": {
        "trusted": true,
        "colab": {
          "base_uri": "https://localhost:8080/"
        },
        "id": "_7rb70cLbcH_",
        "outputId": "e701e19f-478b-4c4f-b147-d40ec51ed1f2"
      },
      "source": [
        "Y_test=model.predict(X_test)\n",
        "print (Y_test)"
      ],
      "execution_count": 26,
      "outputs": [
        {
          "output_type": "stream",
          "text": [
            "[[[2.06275454e-05 3.58631150e-05 4.91175742e-05 1.43415516e-03\n",
            "   1.08161986e-01 1.61047465e-05]\n",
            "  [2.11196566e-05 2.89573072e-05 2.00668728e-05 1.15090879e-02\n",
            "   4.07815650e-02 2.26629763e-05]\n",
            "  [2.77018680e-05 1.75554160e-05 3.72272370e-05 2.76589277e-03\n",
            "   1.21746041e-01 1.33315179e-05]\n",
            "  ...\n",
            "  [4.27440566e-04 1.99279681e-01 3.59960599e-04 8.22746806e-05\n",
            "   1.43916084e-04 8.25761817e-05]\n",
            "  [6.33213960e-04 1.19462915e-01 3.05499008e-04 1.48886873e-04\n",
            "   1.17037234e-04 5.94999183e-05]\n",
            "  [3.04509653e-03 3.22703756e-02 2.73301703e-04 1.01269448e-04\n",
            "   1.42910430e-04 4.02249607e-05]]]\n"
          ],
          "name": "stdout"
        }
      ]
    },
    {
      "cell_type": "code",
      "metadata": {
        "trusted": true,
        "id": "FGatGfVzbcIA"
      },
      "source": [
        "Y_test=Y_test.reshape(2947,6)"
      ],
      "execution_count": 27,
      "outputs": []
    },
    {
      "cell_type": "code",
      "metadata": {
        "trusted": true,
        "id": "QRV_nMYHbcIA"
      },
      "source": [
        "Y_test_f=np.argmax(Y_test,axis=1)\n",
        "Y_test_f=Y_test_f+1\n",
        "Y_test_f=np.array(Y_test_f)"
      ],
      "execution_count": 28,
      "outputs": []
    },
    {
      "cell_type": "code",
      "metadata": {
        "trusted": true,
        "id": "dcFG6H5WbcIB"
      },
      "source": [
        "df=pd.DataFrame(data=Y_test_f,columns=['activity'],index=[i for  i in range(len(Y_test))])"
      ],
      "execution_count": 29,
      "outputs": []
    },
    {
      "cell_type": "code",
      "metadata": {
        "trusted": true,
        "colab": {
          "base_uri": "https://localhost:8080/",
          "height": 204
        },
        "id": "KgyPuHfwbcIB",
        "outputId": "fefdf92c-e638-4504-a07d-a45f38146d5a"
      },
      "source": [
        "df.head()"
      ],
      "execution_count": 30,
      "outputs": [
        {
          "output_type": "execute_result",
          "data": {
            "text/html": [
              "<div>\n",
              "<style scoped>\n",
              "    .dataframe tbody tr th:only-of-type {\n",
              "        vertical-align: middle;\n",
              "    }\n",
              "\n",
              "    .dataframe tbody tr th {\n",
              "        vertical-align: top;\n",
              "    }\n",
              "\n",
              "    .dataframe thead th {\n",
              "        text-align: right;\n",
              "    }\n",
              "</style>\n",
              "<table border=\"1\" class=\"dataframe\">\n",
              "  <thead>\n",
              "    <tr style=\"text-align: right;\">\n",
              "      <th></th>\n",
              "      <th>activity</th>\n",
              "    </tr>\n",
              "  </thead>\n",
              "  <tbody>\n",
              "    <tr>\n",
              "      <th>0</th>\n",
              "      <td>5</td>\n",
              "    </tr>\n",
              "    <tr>\n",
              "      <th>1</th>\n",
              "      <td>5</td>\n",
              "    </tr>\n",
              "    <tr>\n",
              "      <th>2</th>\n",
              "      <td>5</td>\n",
              "    </tr>\n",
              "    <tr>\n",
              "      <th>3</th>\n",
              "      <td>5</td>\n",
              "    </tr>\n",
              "    <tr>\n",
              "      <th>4</th>\n",
              "      <td>5</td>\n",
              "    </tr>\n",
              "  </tbody>\n",
              "</table>\n",
              "</div>"
            ],
            "text/plain": [
              "   activity\n",
              "0         5\n",
              "1         5\n",
              "2         5\n",
              "3         5\n",
              "4         5"
            ]
          },
          "metadata": {
            "tags": []
          },
          "execution_count": 30
        }
      ]
    },
    {
      "cell_type": "code",
      "metadata": {
        "trusted": true,
        "id": "WS6nNISKbcIC"
      },
      "source": [
        "df.to_csv(\"./lstm_out.csv\")"
      ],
      "execution_count": 31,
      "outputs": []
    },
    {
      "cell_type": "code",
      "metadata": {
        "trusted": true,
        "id": "jxDpSbP9bcIC"
      },
      "source": [
        ""
      ],
      "execution_count": null,
      "outputs": []
    }
  ]
}